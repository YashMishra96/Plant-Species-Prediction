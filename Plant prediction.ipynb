{
 "cells": [
  {
   "cell_type": "code",
   "execution_count": 215,
   "metadata": {},
   "outputs": [
    {
     "name": "stdout",
     "output_type": "stream",
     "text": [
      "1.1.0\n"
     ]
    }
   ],
   "source": [
    "import pandas as pd\n",
    "from scipy.misc import imread,imresize\n",
    "import numpy as np\n",
    "import os\n",
    "import matplotlib.pyplot as plt\n",
    "import matplotlib.cm as cm\n",
    "import pylab as pl\n",
    "from sklearn.metrics import accuracy_score,log_loss\n",
    "from sklearn.linear_model import LogisticRegression\n",
    "from sklearn.preprocessing import LabelEncoder\n",
    "from sklearn_extensions.extreme_learning_machines.elm import ELMClassifier,GenELMClassifier,MLPRandomLayer,GenELMRegressor\n",
    "from sklearn.ensemble import RandomForestClassifier,GradientBoostingClassifier\n",
    "from sklearn.svm import SVC,LinearSVC\n",
    "from sklearn.multiclass import OneVsRestClassifier\n",
    "from keras.models import Sequential\n",
    "from keras.layers import Dense,Flatten,Convolution2D,MaxPooling2D,Dropout,Activation,BatchNormalization,ZeroPadding2D,Input,Lambda\n",
    "from keras.layers import GlobalAveragePooling2D\n",
    "from keras.callbacks import EarlyStopping, ModelCheckpoint\n",
    "from keras.optimizers import SGD,Adam, nadam\n",
    "from keras.applications.vgg16 import VGG16,preprocess_input,decode_predictions\n",
    "from keras.models import Model\n",
    "from keras import regularizers\n",
    "import keras.backend as K\n",
    "import warnings\n",
    "warnings.filterwarnings('ignore')\n",
    "import tensorflow as tf\n",
    "print(tf.__version__)"
   ]
  },
  {
   "cell_type": "code",
   "execution_count": 53,
   "metadata": {
    "collapsed": true
   },
   "outputs": [],
   "source": [
    "from matplotlib import rcParams\n",
    "#colorbrewer2 Dark2 qualitative color table\n",
    "dark2_colors = [(0.10588235294117647, 0.6196078431372549, 0.4666666666666667),\n",
    "                (0.8509803921568627, 0.37254901960784315, 0.00784313725490196),\n",
    "                (0.4588235294117647, 0.4392156862745098, 0.7019607843137254),\n",
    "                (0.9058823529411765, 0.1607843137254902, 0.5411764705882353),\n",
    "                (0.4, 0.6509803921568628, 0.11764705882352941),\n",
    "                (0.9019607843137255, 0.6705882352941176, 0.00784313725490196),\n",
    "                (0.6509803921568628, 0.4627450980392157, 0.11372549019607843)]\n",
    "\n",
    "rcParams['figure.figsize'] = (8, 3)\n",
    "rcParams['figure.dpi'] = 150\n",
    "rcParams['axes.color_cycle'] = dark2_colors\n",
    "rcParams['lines.linewidth'] = 2\n",
    "rcParams['font.size'] = 14\n",
    "rcParams['patch.edgecolor'] = 'white'\n",
    "rcParams['patch.facecolor'] = dark2_colors[0]\n",
    "rcParams['font.family'] = 'StixGeneral'\n",
    "rcParams['axes.grid'] = False\n",
    "rcParams['axes.facecolor'] = '#eeeeee'"
   ]
  },
  {
   "cell_type": "code",
   "execution_count": 3,
   "metadata": {
    "collapsed": true
   },
   "outputs": [],
   "source": [
    "train_root='D:/Dataset/New Folder (2)/train'\n",
    "validation_root='D:/Dataset/New Folder (2)/test/test'"
   ]
  },
  {
   "cell_type": "code",
   "execution_count": 4,
   "metadata": {
    "collapsed": true
   },
   "outputs": [],
   "source": [
    "text=open(os.path.join(train_root,'train.txt'))    \n",
    "lines=text.read()  \n",
    "train_images=[]\n",
    "for i in range(1,2289):\n",
    "    image_name=lines.split('\\\\')[i].split('\\nClass')[0]\n",
    "    train_images.append(image_name)\n",
    "train_images[2287]='R_90Class44 (8).jpg'    "
   ]
  },
  {
   "cell_type": "code",
   "execution_count": 5,
   "metadata": {
    "collapsed": true
   },
   "outputs": [],
   "source": [
    "text=open(os.path.join(train_root,'val.txt'))    \n",
    "lines=text.read()  \n",
    "test_images=[]\n",
    "for i in range(1,529):\n",
    "    image_name=lines.split('\\\\')[i].split('\\nClass')[0]\n",
    "    test_images.append(image_name)\n",
    "test_images[527]='R_45Class44 (3).jpg'    "
   ]
  },
  {
   "cell_type": "code",
   "execution_count": 230,
   "metadata": {
    "collapsed": true
   },
   "outputs": [],
   "source": [
    "train_array=[]\n",
    "for i in range(1,45): \n",
    "    image_class=os.path.join(train_root,str('Class ('+str(i)+')'))\n",
    "    for image in train_images[(i-1)*52:(i-1)*52+52]:\n",
    "        img_path=os.path.join(image_class,image)\n",
    "        img=imread(img_path)\n",
    "        img=imresize(img,(256,256))\n",
    "        #tupl=(i,img)\n",
    "        train_array.append(img)\n",
    "train_array=np.array(train_array)\n",
    "train_array=train_array/255"
   ]
  },
  {
   "cell_type": "code",
   "execution_count": 7,
   "metadata": {
    "collapsed": true
   },
   "outputs": [],
   "source": [
    "index_shuffle=np.arange(2288)\n",
    "np.random.shuffle(index_shuffle)\n",
    "train_array=train_array[index_shuffle]"
   ]
  },
  {
   "cell_type": "code",
   "execution_count": 229,
   "metadata": {
    "collapsed": true
   },
   "outputs": [],
   "source": [
    "test_array=[]\n",
    "for i in range(1,45): \n",
    "    image_class=os.path.join(validation_root,str('Class ('+str(i)+')'))\n",
    "    for image in test_images[(i-1)*12:(i-1)*12+12]:\n",
    "        img_path=os.path.join(image_class,image)\n",
    "        img=imread(img_path)\n",
    "        img=imresize(img,(256,256))\n",
    "        #tupl=(i,img)\n",
    "        test_array.append(img)\n",
    "test_array=np.array(test_array)\n",
    "test_array=test_array/255"
   ]
  },
  {
   "cell_type": "code",
   "execution_count": 9,
   "metadata": {},
   "outputs": [
    {
     "data": {
      "text/plain": [
       "<matplotlib.image.AxesImage at 0x26c115035c0>"
      ]
     },
     "execution_count": 9,
     "metadata": {},
     "output_type": "execute_result"
    },
    {
     "data": {
      "image/png": "[encoded data removed]",
      "text/plain": [
       "<matplotlib.figure.Figure at 0x26c093bf3c8>"
      ]
     },
     "metadata": {},
     "output_type": "display_data"
    }
   ],
   "source": [
    "plt.imshow(test_array[0])\n"
   ]
  },
  {
   "cell_type": "code",
   "execution_count": 15,
   "metadata": {
    "collapsed": true
   },
   "outputs": [],
   "source": [
    "y_train=[]\n",
    "for i in range(1,45):\n",
    "    for j in range(52):\n",
    "        y_train.append(i)\n",
    "y_train=np.array(y_train)\n",
    "y_train=y_train[index_shuffle]\n",
    "y_test=[]\n",
    "for i in range(1,45):\n",
    "    for j in range(12):\n",
    "        y_test.append(i)\n",
    "y_train_label=y_train\n",
    "y_test_label=y_test\n",
    "y_train=pd.get_dummies(y_train,prefix='class')\n",
    "y_test=pd.get_dummies(y_test,prefix='class')        "
   ]
  },
  {
   "cell_type": "code",
   "execution_count": 16,
   "metadata": {},
   "outputs": [
    {
     "name": "stdout",
     "output_type": "stream",
     "text": [
      "(2816, 128, 128, 3)\n",
      "(2816, 44)\n"
     ]
    }
   ],
   "source": [
    "X=np.concatenate([train_array,test_array],axis=0)\n",
    "y=pd.concat([y_train,y_test],axis=0)\n",
    "print (X.shape)\n",
    "print (y.shape)"
   ]
  },
  {
   "cell_type": "markdown",
   "metadata": {},
   "source": [
    "# Model Building"
   ]
  },
  {
   "cell_type": "code",
   "execution_count": 232,
   "metadata": {},
   "outputs": [
    {
     "name": "stdout",
     "output_type": "stream",
     "text": [
      "_________________________________________________________________\n",
      "Layer (type)                 Output Shape              Param #   \n",
      "=================================================================\n",
      "zero_padding2d_10 (ZeroPaddi (None, 130, 130, 3)       0         \n",
      "_________________________________________________________________\n",
      "conv2d_10 (Conv2D)           (None, 128, 128, 16)      448       \n",
      "_________________________________________________________________\n",
      "batch_normalization_22 (Batc (None, 128, 128, 16)      64        \n",
      "_________________________________________________________________\n",
      "activation_31 (Activation)   (None, 128, 128, 16)      0         \n",
      "_________________________________________________________________\n",
      "max_pooling2d_10 (MaxPooling (None, 64, 64, 16)        0         \n",
      "_________________________________________________________________\n",
      "zero_padding2d_11 (ZeroPaddi (None, 66, 66, 16)        0         \n",
      "_________________________________________________________________\n",
      "conv2d_11 (Conv2D)           (None, 62, 62, 32)        12832     \n",
      "_________________________________________________________________\n",
      "batch_normalization_23 (Batc (None, 62, 62, 32)        128       \n",
      "_________________________________________________________________\n",
      "activation_32 (Activation)   (None, 62, 62, 32)        0         \n",
      "_________________________________________________________________\n",
      "max_pooling2d_11 (MaxPooling (None, 31, 31, 32)        0         \n",
      "_________________________________________________________________\n",
      "zero_padding2d_12 (ZeroPaddi (None, 33, 33, 32)        0         \n",
      "_________________________________________________________________\n",
      "conv2d_12 (Conv2D)           (None, 31, 31, 64)        18496     \n",
      "_________________________________________________________________\n",
      "batch_normalization_24 (Batc (None, 31, 31, 64)        256       \n",
      "_________________________________________________________________\n",
      "activation_33 (Activation)   (None, 31, 31, 64)        0         \n",
      "_________________________________________________________________\n",
      "max_pooling2d_12 (MaxPooling (None, 15, 15, 64)        0         \n",
      "_________________________________________________________________\n",
      "flatten_5 (Flatten)          (None, 14400)             0         \n",
      "_________________________________________________________________\n",
      "dense_22 (Dense)             (None, 256)               3686656   \n",
      "_________________________________________________________________\n",
      "dropout_13 (Dropout)         (None, 256)               0         \n",
      "_________________________________________________________________\n",
      "batch_normalization_25 (Batc (None, 256)               1024      \n",
      "_________________________________________________________________\n",
      "activation_34 (Activation)   (None, 256)               0         \n",
      "_________________________________________________________________\n",
      "dense_23 (Dense)             (None, 256)               65792     \n",
      "_________________________________________________________________\n",
      "dropout_14 (Dropout)         (None, 256)               0         \n",
      "_________________________________________________________________\n",
      "batch_normalization_26 (Batc (None, 256)               1024      \n",
      "_________________________________________________________________\n",
      "activation_35 (Activation)   (None, 256)               0         \n",
      "_________________________________________________________________\n",
      "dense_24 (Dense)             (None, 44)                11308     \n",
      "_________________________________________________________________\n",
      "activation_36 (Activation)   (None, 44)                0         \n",
      "=================================================================\n",
      "Total params: 3,798,028\n",
      "Trainable params: 3,796,780\n",
      "Non-trainable params: 1,248\n",
      "_________________________________________________________________\n"
     ]
    }
   ],
   "source": [
    "model = Sequential()\n",
    "model.add(ZeroPadding2D((1,1),input_shape=(128,128,3)))\n",
    "model.add(Convolution2D(16, kernel_size=(3, 3), strides=(1, 1) #stride changed from (2,2 ) to (1,1)\n",
    "                 ))\n",
    "model.add(BatchNormalization())\n",
    "model.add(Activation('relu'))\n",
    "\n",
    "model.add(MaxPooling2D(pool_size=(2, 2), strides=(2, 2)))\n",
    "\n",
    "model.add(ZeroPadding2D((1,1)))\n",
    "model.add(Convolution2D(32, (5, 5),strides=(1,1)))\n",
    "model.add(BatchNormalization())\n",
    "model.add(Activation('relu'))\n",
    "\n",
    "model.add(MaxPooling2D(pool_size=(2, 2)))\n",
    "\n",
    "model.add(ZeroPadding2D((1,1)))\n",
    "model.add(Convolution2D(64, (3, 3),strides=(1,1)))\n",
    "model.add(BatchNormalization())\n",
    "model.add(Activation('relu'))\n",
    "\n",
    "model.add(MaxPooling2D(pool_size=(2, 2)))\n",
    "\n",
    "model.add(Flatten())\n",
    "# model.add(Dense(1024))\n",
    "# model.add(BatchNormalization()) #adding batch normalization added accuracy\n",
    "# model.add(Activation('relu'))\n",
    "model.add(Dense(256)) # an extra layer added increased accuracy ,then batch norm was ot included in the model\n",
    "model.add(Dropout(.3))\n",
    "model.add(BatchNormalization())\n",
    "model.add(Activation('relu'))\n",
    "\n",
    "model.add(Dense(256)) # an extra layer added increased accuracy ,then batch norm was ot included in the model\n",
    "model.add(Dropout(.4))\n",
    "model.add(BatchNormalization())\n",
    "model.add(Activation('relu'))\n",
    "\n",
    "model.add(Dense(44))\n",
    "#model.add(BatchNormalization())\n",
    "model.add(Activation('softmax'))\n",
    "\n",
    "model.summary()"
   ]
  },
  {
   "cell_type": "code",
   "execution_count": 181,
   "metadata": {},
   "outputs": [
    {
     "name": "stdout",
     "output_type": "stream",
     "text": [
      "Train on 2288 samples, validate on 528 samples\n",
      "Epoch 1/15\n",
      "2288/2288 [==============================] - 234s 102ms/step - loss: 3.6240 - acc: 0.0656 - val_loss: 4.3634 - val_acc: 0.0227\n",
      "Epoch 2/15\n",
      "2288/2288 [==============================] - 238s 104ms/step - loss: 2.8563 - acc: 0.2085 - val_loss: 5.7399 - val_acc: 0.0436\n",
      "Epoch 3/15\n",
      "2288/2288 [==============================] - 253s 111ms/step - loss: 2.2202 - acc: 0.3623 - val_loss: 6.3042 - val_acc: 0.0549\n",
      "Epoch 4/15\n",
      "2288/2288 [==============================] - 217s 95ms/step - loss: 1.7559 - acc: 0.4943 - val_loss: 6.1802 - val_acc: 0.0625\n",
      "Epoch 5/15\n",
      "2288/2288 [==============================] - 230s 100ms/step - loss: 1.4229 - acc: 0.5957 - val_loss: 4.6380 - val_acc: 0.0890\n",
      "Epoch 6/15\n",
      "2288/2288 [==============================] - 232s 101ms/step - loss: 1.1974 - acc: 0.6534 - val_loss: 2.2161 - val_acc: 0.3333\n",
      "Epoch 7/15\n",
      "2288/2288 [==============================] - 243s 106ms/step - loss: 0.9540 - acc: 0.7395 - val_loss: 2.1249 - val_acc: 0.3788\n",
      "Epoch 8/15\n",
      "2288/2288 [==============================] - 243s 106ms/step - loss: 0.7888 - acc: 0.7837 - val_loss: 2.6682 - val_acc: 0.2860\n",
      "Epoch 9/15\n",
      "2288/2288 [==============================] - 356s 155ms/step - loss: 0.6221 - acc: 0.8278 - val_loss: 1.2988 - val_acc: 0.6307\n",
      "Epoch 10/15\n",
      "2288/2288 [==============================] - 360s 158ms/step - loss: 0.4756 - acc: 0.8767 - val_loss: 1.3330 - val_acc: 0.5871\n",
      "Epoch 11/15\n",
      "2288/2288 [==============================] - 259s 113ms/step - loss: 0.3807 - acc: 0.9108 - val_loss: 1.3218 - val_acc: 0.6155\n",
      "Epoch 12/15\n",
      "2288/2288 [==============================] - 222s 97ms/step - loss: 0.3084 - acc: 0.9270 - val_loss: 2.7555 - val_acc: 0.3636\n",
      "Epoch 13/15\n",
      "2288/2288 [==============================] - 5082s 2s/step - loss: 0.2632 - acc: 0.9366 - val_loss: 1.1976 - val_acc: 0.6402\n",
      "Epoch 14/15\n",
      "2288/2288 [==============================] - 239s 104ms/step - loss: 0.2213 - acc: 0.9476 - val_loss: 2.4814 - val_acc: 0.4186\n",
      "Epoch 15/15\n",
      "2288/2288 [==============================] - 241s 105ms/step - loss: 0.1644 - acc: 0.9646 - val_loss: 1.1871 - val_acc: 0.6477\n"
     ]
    }
   ],
   "source": [
    "adam=Adam(lr=.0001,beta_2=0.99,decay=1e-5)\n",
    "model.compile(loss='categorical_crossentropy',optimizer='adam',metrics=['accuracy'])\n",
    "history=model.fit(train_array,y_train,epochs=20,validation_data=(test_array,y_test),batch_size=20, verbose= 1)"
   ]
  },
  {
   "cell_type": "markdown",
   "metadata": {},
   "source": [
    "This is the first basic model and as we can see the model is overfitting heavily,and now when we are able to get approx 65% validation accuracy ,we will try to improve it from here on.\n",
    "                         We will use ELM to classify the classes"
   ]
  },
  {
   "cell_type": "code",
   "execution_count": 183,
   "metadata": {
    "collapsed": true
   },
   "outputs": [],
   "source": [
    "weights='model_weights.hdf'\n",
    "model.save_weights(weights)\n",
    "#model.load_weights('model_weights.hdf')"
   ]
  },
  {
   "cell_type": "code",
   "execution_count": 51,
   "metadata": {
    "collapsed": true
   },
   "outputs": [],
   "source": [
    "#y_pred_train=model.predict(train_array)\n",
    "# log_loss(y_pred_train,y_train)\n",
    "# y_labels=1+np.argmax(y_pred_train,axis=1)"
   ]
  },
  {
   "cell_type": "code",
   "execution_count": 176,
   "metadata": {
    "collapsed": true
   },
   "outputs": [],
   "source": [
    "#model_new=model\n",
    "# model_new.layers.pop()\n",
    "# model_new.layers.pop()\n",
    "# model_new.layers.pop()\n",
    "# model_new.layers.pop()\n",
    "# model_new.layers.pop()\n",
    "# model_new.layers.pop()\n",
    "# model_new.summary()\n",
    "train_features=model_new.predict(train_array)\n",
    "test_features=model_new.predict(test_array)"
   ]
  },
  {
   "cell_type": "code",
   "execution_count": 98,
   "metadata": {
    "collapsed": true
   },
   "outputs": [],
   "source": [
    "model2 = Sequential()\n",
    "model2.add(ZeroPadding2D((1,1),input_shape=(128,128,3)))\n",
    "model2.add(Convolution2D(16, kernel_size=(3, 3), strides=(1, 1) #stride changed from (2,2 ) to (1,1)\n",
    "                 ))\n",
    "model2.add(BatchNormalization())\n",
    "model2.add(Activation('relu'))\n",
    "\n",
    "model2.add(MaxPooling2D(pool_size=(2, 2), strides=(2, 2)))\n",
    "\n",
    "model2.add(ZeroPadding2D((1,1)))\n",
    "model2.add(Convolution2D(32, (5, 5),strides=(1,1)))\n",
    "model2.add(BatchNormalization())\n",
    "model2.add(Activation('relu'))\n",
    "\n",
    "model2.add(MaxPooling2D(pool_size=(2, 2)))\n",
    "\n",
    "model2.add(ZeroPadding2D((1,1)))\n",
    "model2.add(Convolution2D(64, (3, 3),strides=(1,1)))\n",
    "model2.add(BatchNormalization())\n",
    "model2.add(Activation('relu'))\n",
    "\n",
    "convout1=MaxPooling2D(pool_size=(2, 2))\n",
    "model2.add(convout1)\n",
    "\n",
    "model2.add(Flatten())\n",
    "# model2.add(Dense(1024))\n",
    "# model2.add(BatchNormalization()) #adding batch normalization added accuracy\n",
    "# model2.add(Activation('relu'))\n",
    "denseout=Dense(256)\n",
    "model2.add(denseout) # an extra layer added increased accuracy ,then batch norm was ot included in the model\n",
    "model2.add(Dropout(.5))\n",
    "model2.add(BatchNormalization())\n",
    "model2.add(Activation('relu'))\n",
    "\n",
    "model2.add(Dense(256)) # an extra layer added increased accuracy ,then batch norm was ot included in the model\n",
    "model2.add(Dropout(.5))\n",
    "model2.add(BatchNormalization())\n",
    "model2.add(Activation('relu'))\n",
    "\n",
    "model2.add(Dense(44))\n",
    "#model2.add(BatchNormalization())\n",
    "model2.add(Activation('softmax'))\n",
    "\n",
    "# model2.load_weights(weights)\n",
    "# callback=ModelCheckpoint('weights_model2.hdf5',monitor='val_acc',save_best_only=True,save_weights_only=True)\n",
    "# adam=Adam(lr=.0001,beta_2=0.99,decay=1e-4)\n",
    "# model2.compile(loss='categorical_crossentropy',optimizer=adam,metrics=['accuracy'])\n",
    "# history2=model2.fit(train_array,y_train,epochs=20,validation_data=(test_array,y_test),batch_size=20, verbose= 1,callbacks=[callback])"
   ]
  },
  {
   "cell_type": "code",
   "execution_count": 99,
   "metadata": {
    "collapsed": true
   },
   "outputs": [],
   "source": [
    "model2.load_weights('weights_model2.hdf5')"
   ]
  },
  {
   "cell_type": "code",
   "execution_count": 301,
   "metadata": {},
   "outputs": [
    {
     "data": {
      "text/plain": [
       "<matplotlib.legend.Legend at 0x208d7fe4ba8>"
      ]
     },
     "execution_count": 301,
     "metadata": {},
     "output_type": "execute_result"
    },
    {
     "data": {
      "image/png": "[encoded data removed]",
      "text/plain": [
       "<matplotlib.figure.Figure at 0x208d5658550>"
      ]
     },
     "metadata": {},
     "output_type": "display_data"
    }
   ],
   "source": [
    "plt.plot(history2.history['acc'],color='r',label='training')\n",
    "plt.plot(history2.history['val_acc'],color='b',label='validation')\n",
    "plt.legend(loc='best')"
   ]
  },
  {
   "cell_type": "code",
   "execution_count": 28,
   "metadata": {},
   "outputs": [
    {
     "data": {
      "text/plain": [
       "0.77462121212121215"
      ]
     },
     "execution_count": 28,
     "metadata": {},
     "output_type": "execute_result"
    }
   ],
   "source": [
    "pred=model2.predict(test_array)\n",
    "pred_label=np.argmax(pred,axis=1)+1\n",
    "accuracy_score(pred_label,y_test_label)"
   ]
  },
  {
   "cell_type": "code",
   "execution_count": 302,
   "metadata": {},
   "outputs": [
    {
     "name": "stdout",
     "output_type": "stream",
     "text": [
      "Train on 2288 samples, validate on 528 samples\n",
      "Epoch 1/20\n",
      "2288/2288 [==============================] - 206s 90ms/step - loss: 0.0955 - acc: 0.9830 - val_loss: 0.9996 - val_acc: 0.7178\n",
      "Epoch 2/20\n",
      "2288/2288 [==============================] - 203s 89ms/step - loss: 0.0917 - acc: 0.9847 - val_loss: 0.8684 - val_acc: 0.7689\n",
      "Epoch 3/20\n",
      "2288/2288 [==============================] - 202s 88ms/step - loss: 0.0845 - acc: 0.9873 - val_loss: 0.8514 - val_acc: 0.7689\n",
      "Epoch 4/20\n",
      "2288/2288 [==============================] - 202s 88ms/step - loss: 0.0784 - acc: 0.9865 - val_loss: 0.9067 - val_acc: 0.7481\n",
      "Epoch 5/20\n",
      "2288/2288 [==============================] - 1717s 750ms/step - loss: 0.0768 - acc: 0.9856 - val_loss: 0.8690 - val_acc: 0.7614\n",
      "Epoch 6/20\n",
      "2288/2288 [==============================] - 272s 119ms/step - loss: 0.0806 - acc: 0.9860 - val_loss: 0.8719 - val_acc: 0.7595\n",
      "Epoch 7/20\n",
      "2288/2288 [==============================] - 249s 109ms/step - loss: 0.0709 - acc: 0.9886 - val_loss: 0.8730 - val_acc: 0.7708\n",
      "Epoch 8/20\n",
      "2288/2288 [==============================] - 272s 119ms/step - loss: 0.0668 - acc: 0.9934 - val_loss: 0.8739 - val_acc: 0.7727\n",
      "Epoch 9/20\n",
      "2288/2288 [==============================] - 248s 108ms/step - loss: 0.0700 - acc: 0.9882 - val_loss: 0.9394 - val_acc: 0.7481\n",
      "Epoch 10/20\n",
      "2288/2288 [==============================] - 260s 114ms/step - loss: 0.0663 - acc: 0.9939 - val_loss: 0.9477 - val_acc: 0.7367\n",
      "Epoch 11/20\n",
      "2288/2288 [==============================] - 238s 104ms/step - loss: 0.0621 - acc: 0.9917 - val_loss: 0.8818 - val_acc: 0.7746\n",
      "Epoch 12/20\n",
      "2288/2288 [==============================] - 234s 102ms/step - loss: 0.0628 - acc: 0.9926 - val_loss: 0.9497 - val_acc: 0.7386\n",
      "Epoch 13/20\n",
      " 740/2288 [========>.....................] - ETA: 2:25 - loss: 0.0613 - acc: 0.9905"
     ]
    },
    {
     "ename": "KeyboardInterrupt",
     "evalue": "",
     "output_type": "error",
     "traceback": [
      "\u001b[1;31m---------------------------------------------------------------------------\u001b[0m",
      "\u001b[1;31mKeyboardInterrupt\u001b[0m                         Traceback (most recent call last)",
      "\u001b[1;32m<ipython-input-302-0d6b24d6b316>\u001b[0m in \u001b[0;36m<module>\u001b[1;34m()\u001b[0m\n\u001b[0;32m      1\u001b[0m \u001b[0mmodel2\u001b[0m\u001b[1;33m.\u001b[0m\u001b[0mcompile\u001b[0m\u001b[1;33m(\u001b[0m\u001b[0mloss\u001b[0m\u001b[1;33m=\u001b[0m\u001b[1;34m'categorical_crossentropy'\u001b[0m\u001b[1;33m,\u001b[0m\u001b[0moptimizer\u001b[0m\u001b[1;33m=\u001b[0m\u001b[0madam\u001b[0m\u001b[1;33m,\u001b[0m\u001b[0mmetrics\u001b[0m\u001b[1;33m=\u001b[0m\u001b[1;33m[\u001b[0m\u001b[1;34m'accuracy'\u001b[0m\u001b[1;33m]\u001b[0m\u001b[1;33m)\u001b[0m\u001b[1;33m\u001b[0m\u001b[0m\n\u001b[1;32m----> 2\u001b[1;33m \u001b[0mhistory2_new\u001b[0m\u001b[1;33m=\u001b[0m\u001b[0mmodel2\u001b[0m\u001b[1;33m.\u001b[0m\u001b[0mfit\u001b[0m\u001b[1;33m(\u001b[0m\u001b[0mtrain_array\u001b[0m\u001b[1;33m,\u001b[0m\u001b[0my_train\u001b[0m\u001b[1;33m,\u001b[0m\u001b[0mepochs\u001b[0m\u001b[1;33m=\u001b[0m\u001b[1;36m20\u001b[0m\u001b[1;33m,\u001b[0m\u001b[0mvalidation_data\u001b[0m\u001b[1;33m=\u001b[0m\u001b[1;33m(\u001b[0m\u001b[0mtest_array\u001b[0m\u001b[1;33m,\u001b[0m\u001b[0my_test\u001b[0m\u001b[1;33m)\u001b[0m\u001b[1;33m,\u001b[0m\u001b[0mbatch_size\u001b[0m\u001b[1;33m=\u001b[0m\u001b[1;36m20\u001b[0m\u001b[1;33m,\u001b[0m \u001b[0mverbose\u001b[0m\u001b[1;33m=\u001b[0m \u001b[1;36m1\u001b[0m\u001b[1;33m,\u001b[0m\u001b[0mcallbacks\u001b[0m\u001b[1;33m=\u001b[0m\u001b[1;33m[\u001b[0m\u001b[0mcallback\u001b[0m\u001b[1;33m]\u001b[0m\u001b[1;33m)\u001b[0m\u001b[1;33m\u001b[0m\u001b[0m\n\u001b[0m",
      "\u001b[1;32m~\\Anaconda2\\envs\\my\\lib\\site-packages\\keras\\models.py\u001b[0m in \u001b[0;36mfit\u001b[1;34m(self, x, y, batch_size, epochs, verbose, callbacks, validation_split, validation_data, shuffle, class_weight, sample_weight, initial_epoch, steps_per_epoch, validation_steps, **kwargs)\u001b[0m\n\u001b[0;32m    958\u001b[0m                               \u001b[0minitial_epoch\u001b[0m\u001b[1;33m=\u001b[0m\u001b[0minitial_epoch\u001b[0m\u001b[1;33m,\u001b[0m\u001b[1;33m\u001b[0m\u001b[0m\n\u001b[0;32m    959\u001b[0m                               \u001b[0msteps_per_epoch\u001b[0m\u001b[1;33m=\u001b[0m\u001b[0msteps_per_epoch\u001b[0m\u001b[1;33m,\u001b[0m\u001b[1;33m\u001b[0m\u001b[0m\n\u001b[1;32m--> 960\u001b[1;33m                               validation_steps=validation_steps)\n\u001b[0m\u001b[0;32m    961\u001b[0m \u001b[1;33m\u001b[0m\u001b[0m\n\u001b[0;32m    962\u001b[0m     def evaluate(self, x, y, batch_size=32, verbose=1,\n",
      "\u001b[1;32m~\\Anaconda2\\envs\\my\\lib\\site-packages\\keras\\engine\\training.py\u001b[0m in \u001b[0;36mfit\u001b[1;34m(self, x, y, batch_size, epochs, verbose, callbacks, validation_split, validation_data, shuffle, class_weight, sample_weight, initial_epoch, steps_per_epoch, validation_steps, **kwargs)\u001b[0m\n\u001b[0;32m   1655\u001b[0m                               \u001b[0minitial_epoch\u001b[0m\u001b[1;33m=\u001b[0m\u001b[0minitial_epoch\u001b[0m\u001b[1;33m,\u001b[0m\u001b[1;33m\u001b[0m\u001b[0m\n\u001b[0;32m   1656\u001b[0m                               \u001b[0msteps_per_epoch\u001b[0m\u001b[1;33m=\u001b[0m\u001b[0msteps_per_epoch\u001b[0m\u001b[1;33m,\u001b[0m\u001b[1;33m\u001b[0m\u001b[0m\n\u001b[1;32m-> 1657\u001b[1;33m                               validation_steps=validation_steps)\n\u001b[0m\u001b[0;32m   1658\u001b[0m \u001b[1;33m\u001b[0m\u001b[0m\n\u001b[0;32m   1659\u001b[0m     def evaluate(self, x=None, y=None,\n",
      "\u001b[1;32m~\\Anaconda2\\envs\\my\\lib\\site-packages\\keras\\engine\\training.py\u001b[0m in \u001b[0;36m_fit_loop\u001b[1;34m(self, f, ins, out_labels, batch_size, epochs, verbose, callbacks, val_f, val_ins, shuffle, callback_metrics, initial_epoch, steps_per_epoch, validation_steps)\u001b[0m\n\u001b[0;32m   1211\u001b[0m                     \u001b[0mbatch_logs\u001b[0m\u001b[1;33m[\u001b[0m\u001b[1;34m'size'\u001b[0m\u001b[1;33m]\u001b[0m \u001b[1;33m=\u001b[0m \u001b[0mlen\u001b[0m\u001b[1;33m(\u001b[0m\u001b[0mbatch_ids\u001b[0m\u001b[1;33m)\u001b[0m\u001b[1;33m\u001b[0m\u001b[0m\n\u001b[0;32m   1212\u001b[0m                     \u001b[0mcallbacks\u001b[0m\u001b[1;33m.\u001b[0m\u001b[0mon_batch_begin\u001b[0m\u001b[1;33m(\u001b[0m\u001b[0mbatch_index\u001b[0m\u001b[1;33m,\u001b[0m \u001b[0mbatch_logs\u001b[0m\u001b[1;33m)\u001b[0m\u001b[1;33m\u001b[0m\u001b[0m\n\u001b[1;32m-> 1213\u001b[1;33m                     \u001b[0mouts\u001b[0m \u001b[1;33m=\u001b[0m \u001b[0mf\u001b[0m\u001b[1;33m(\u001b[0m\u001b[0mins_batch\u001b[0m\u001b[1;33m)\u001b[0m\u001b[1;33m\u001b[0m\u001b[0m\n\u001b[0m\u001b[0;32m   1214\u001b[0m                     \u001b[1;32mif\u001b[0m \u001b[1;32mnot\u001b[0m \u001b[0misinstance\u001b[0m\u001b[1;33m(\u001b[0m\u001b[0mouts\u001b[0m\u001b[1;33m,\u001b[0m \u001b[0mlist\u001b[0m\u001b[1;33m)\u001b[0m\u001b[1;33m:\u001b[0m\u001b[1;33m\u001b[0m\u001b[0m\n\u001b[0;32m   1215\u001b[0m                         \u001b[0mouts\u001b[0m \u001b[1;33m=\u001b[0m \u001b[1;33m[\u001b[0m\u001b[0mouts\u001b[0m\u001b[1;33m]\u001b[0m\u001b[1;33m\u001b[0m\u001b[0m\n",
      "\u001b[1;32m~\\Anaconda2\\envs\\my\\lib\\site-packages\\keras\\backend\\tensorflow_backend.py\u001b[0m in \u001b[0;36m__call__\u001b[1;34m(self, inputs)\u001b[0m\n\u001b[0;32m   2355\u001b[0m         \u001b[0msession\u001b[0m \u001b[1;33m=\u001b[0m \u001b[0mget_session\u001b[0m\u001b[1;33m(\u001b[0m\u001b[1;33m)\u001b[0m\u001b[1;33m\u001b[0m\u001b[0m\n\u001b[0;32m   2356\u001b[0m         updated = session.run(fetches=fetches, feed_dict=feed_dict,\n\u001b[1;32m-> 2357\u001b[1;33m                               **self.session_kwargs)\n\u001b[0m\u001b[0;32m   2358\u001b[0m         \u001b[1;32mreturn\u001b[0m \u001b[0mupdated\u001b[0m\u001b[1;33m[\u001b[0m\u001b[1;33m:\u001b[0m\u001b[0mlen\u001b[0m\u001b[1;33m(\u001b[0m\u001b[0mself\u001b[0m\u001b[1;33m.\u001b[0m\u001b[0moutputs\u001b[0m\u001b[1;33m)\u001b[0m\u001b[1;33m]\u001b[0m\u001b[1;33m\u001b[0m\u001b[0m\n\u001b[0;32m   2359\u001b[0m \u001b[1;33m\u001b[0m\u001b[0m\n",
      "\u001b[1;32m~\\Anaconda2\\envs\\my\\lib\\site-packages\\tensorflow\\python\\client\\session.py\u001b[0m in \u001b[0;36mrun\u001b[1;34m(self, fetches, feed_dict, options, run_metadata)\u001b[0m\n\u001b[0;32m    776\u001b[0m     \u001b[1;32mtry\u001b[0m\u001b[1;33m:\u001b[0m\u001b[1;33m\u001b[0m\u001b[0m\n\u001b[0;32m    777\u001b[0m       result = self._run(None, fetches, feed_dict, options_ptr,\n\u001b[1;32m--> 778\u001b[1;33m                          run_metadata_ptr)\n\u001b[0m\u001b[0;32m    779\u001b[0m       \u001b[1;32mif\u001b[0m \u001b[0mrun_metadata\u001b[0m\u001b[1;33m:\u001b[0m\u001b[1;33m\u001b[0m\u001b[0m\n\u001b[0;32m    780\u001b[0m         \u001b[0mproto_data\u001b[0m \u001b[1;33m=\u001b[0m \u001b[0mtf_session\u001b[0m\u001b[1;33m.\u001b[0m\u001b[0mTF_GetBuffer\u001b[0m\u001b[1;33m(\u001b[0m\u001b[0mrun_metadata_ptr\u001b[0m\u001b[1;33m)\u001b[0m\u001b[1;33m\u001b[0m\u001b[0m\n",
      "\u001b[1;32m~\\Anaconda2\\envs\\my\\lib\\site-packages\\tensorflow\\python\\client\\session.py\u001b[0m in \u001b[0;36m_run\u001b[1;34m(self, handle, fetches, feed_dict, options, run_metadata)\u001b[0m\n\u001b[0;32m    980\u001b[0m     \u001b[1;32mif\u001b[0m \u001b[0mfinal_fetches\u001b[0m \u001b[1;32mor\u001b[0m \u001b[0mfinal_targets\u001b[0m\u001b[1;33m:\u001b[0m\u001b[1;33m\u001b[0m\u001b[0m\n\u001b[0;32m    981\u001b[0m       results = self._do_run(handle, final_targets, final_fetches,\n\u001b[1;32m--> 982\u001b[1;33m                              feed_dict_string, options, run_metadata)\n\u001b[0m\u001b[0;32m    983\u001b[0m     \u001b[1;32melse\u001b[0m\u001b[1;33m:\u001b[0m\u001b[1;33m\u001b[0m\u001b[0m\n\u001b[0;32m    984\u001b[0m       \u001b[0mresults\u001b[0m \u001b[1;33m=\u001b[0m \u001b[1;33m[\u001b[0m\u001b[1;33m]\u001b[0m\u001b[1;33m\u001b[0m\u001b[0m\n",
      "\u001b[1;32m~\\Anaconda2\\envs\\my\\lib\\site-packages\\tensorflow\\python\\client\\session.py\u001b[0m in \u001b[0;36m_do_run\u001b[1;34m(self, handle, target_list, fetch_list, feed_dict, options, run_metadata)\u001b[0m\n\u001b[0;32m   1030\u001b[0m     \u001b[1;32mif\u001b[0m \u001b[0mhandle\u001b[0m \u001b[1;32mis\u001b[0m \u001b[1;32mNone\u001b[0m\u001b[1;33m:\u001b[0m\u001b[1;33m\u001b[0m\u001b[0m\n\u001b[0;32m   1031\u001b[0m       return self._do_call(_run_fn, self._session, feed_dict, fetch_list,\n\u001b[1;32m-> 1032\u001b[1;33m                            target_list, options, run_metadata)\n\u001b[0m\u001b[0;32m   1033\u001b[0m     \u001b[1;32melse\u001b[0m\u001b[1;33m:\u001b[0m\u001b[1;33m\u001b[0m\u001b[0m\n\u001b[0;32m   1034\u001b[0m       return self._do_call(_prun_fn, self._session, handle, feed_dict,\n",
      "\u001b[1;32m~\\Anaconda2\\envs\\my\\lib\\site-packages\\tensorflow\\python\\client\\session.py\u001b[0m in \u001b[0;36m_do_call\u001b[1;34m(self, fn, *args)\u001b[0m\n\u001b[0;32m   1037\u001b[0m   \u001b[1;32mdef\u001b[0m \u001b[0m_do_call\u001b[0m\u001b[1;33m(\u001b[0m\u001b[0mself\u001b[0m\u001b[1;33m,\u001b[0m \u001b[0mfn\u001b[0m\u001b[1;33m,\u001b[0m \u001b[1;33m*\u001b[0m\u001b[0margs\u001b[0m\u001b[1;33m)\u001b[0m\u001b[1;33m:\u001b[0m\u001b[1;33m\u001b[0m\u001b[0m\n\u001b[0;32m   1038\u001b[0m     \u001b[1;32mtry\u001b[0m\u001b[1;33m:\u001b[0m\u001b[1;33m\u001b[0m\u001b[0m\n\u001b[1;32m-> 1039\u001b[1;33m       \u001b[1;32mreturn\u001b[0m \u001b[0mfn\u001b[0m\u001b[1;33m(\u001b[0m\u001b[1;33m*\u001b[0m\u001b[0margs\u001b[0m\u001b[1;33m)\u001b[0m\u001b[1;33m\u001b[0m\u001b[0m\n\u001b[0m\u001b[0;32m   1040\u001b[0m     \u001b[1;32mexcept\u001b[0m \u001b[0merrors\u001b[0m\u001b[1;33m.\u001b[0m\u001b[0mOpError\u001b[0m \u001b[1;32mas\u001b[0m \u001b[0me\u001b[0m\u001b[1;33m:\u001b[0m\u001b[1;33m\u001b[0m\u001b[0m\n\u001b[0;32m   1041\u001b[0m       \u001b[0mmessage\u001b[0m \u001b[1;33m=\u001b[0m \u001b[0mcompat\u001b[0m\u001b[1;33m.\u001b[0m\u001b[0mas_text\u001b[0m\u001b[1;33m(\u001b[0m\u001b[0me\u001b[0m\u001b[1;33m.\u001b[0m\u001b[0mmessage\u001b[0m\u001b[1;33m)\u001b[0m\u001b[1;33m\u001b[0m\u001b[0m\n",
      "\u001b[1;32m~\\Anaconda2\\envs\\my\\lib\\site-packages\\tensorflow\\python\\client\\session.py\u001b[0m in \u001b[0;36m_run_fn\u001b[1;34m(session, feed_dict, fetch_list, target_list, options, run_metadata)\u001b[0m\n\u001b[0;32m   1019\u001b[0m         return tf_session.TF_Run(session, options,\n\u001b[0;32m   1020\u001b[0m                                  \u001b[0mfeed_dict\u001b[0m\u001b[1;33m,\u001b[0m \u001b[0mfetch_list\u001b[0m\u001b[1;33m,\u001b[0m \u001b[0mtarget_list\u001b[0m\u001b[1;33m,\u001b[0m\u001b[1;33m\u001b[0m\u001b[0m\n\u001b[1;32m-> 1021\u001b[1;33m                                  status, run_metadata)\n\u001b[0m\u001b[0;32m   1022\u001b[0m \u001b[1;33m\u001b[0m\u001b[0m\n\u001b[0;32m   1023\u001b[0m     \u001b[1;32mdef\u001b[0m \u001b[0m_prun_fn\u001b[0m\u001b[1;33m(\u001b[0m\u001b[0msession\u001b[0m\u001b[1;33m,\u001b[0m \u001b[0mhandle\u001b[0m\u001b[1;33m,\u001b[0m \u001b[0mfeed_dict\u001b[0m\u001b[1;33m,\u001b[0m \u001b[0mfetch_list\u001b[0m\u001b[1;33m)\u001b[0m\u001b[1;33m:\u001b[0m\u001b[1;33m\u001b[0m\u001b[0m\n",
      "\u001b[1;31mKeyboardInterrupt\u001b[0m: "
     ]
    }
   ],
   "source": [
    "ndam=nadam(lr=.000001)\n",
    "model2.compile(loss='categorical_crossentropy',optimizer=ndam,metrics=['accuracy'])\n",
    "history2_new=model2.fit(train_array,y_train,epochs=20,validation_data=(test_array,y_test),batch_size=20, verbose= 1,callbacks=[callback])"
   ]
  },
  {
   "cell_type": "code",
   "execution_count": null,
   "metadata": {
    "collapsed": true
   },
   "outputs": [],
   "source": [
    "# plt.plot(history2_new.history['acc'],color='r',label='training')\n",
    "# plt.plot(history2_new.history['val_acc'],color='b',label='validation')\n",
    "# plt.legend(loc='best')"
   ]
  },
  {
   "cell_type": "code",
   "execution_count": 103,
   "metadata": {
    "collapsed": true
   },
   "outputs": [],
   "source": [
    "# K.learning_phase() is a flag that indicates if the network is in training or\n",
    "# predict phase. It allow layer (e.g. Dropout) to only be applied during training\n",
    "inputs = [K.learning_phase()] + model2.inputs\n",
    "\n",
    "_convout1_f = K.function(inputs, [convout1.output])\n",
    "def convout1_f(X):\n",
    "    # The [0] is to disable the training phase flag\n",
    "    return _convout1_f([0] + [X])"
   ]
  },
  {
   "cell_type": "code",
   "execution_count": 30,
   "metadata": {
    "collapsed": true
   },
   "outputs": [],
   "source": [
    "test_features=convout1_f(test_array)\n",
    "train_features1=convout1_f(train_array[0:500])\n",
    "train_features2=convout1_f(train_array[500:1000])\n",
    "train_features3=convout1_f(train_array[1000:1500])\n",
    "train_features4=convout1_f(train_array[1500:2000])\n",
    "train_features5=convout1_f(train_array[2000:])\n",
    "train_features=np.concatenate([train_features1[0],train_features2[0],train_features3[0],train_features4[0],train_features5[0]],axis=0)\n",
    "train_features.shape"
   ]
  },
  {
   "cell_type": "code",
   "execution_count": 54,
   "metadata": {},
   "outputs": [
    {
     "data": {
      "image/png": "[encoded data removed]",
      "text/plain": [
       "<matplotlib.figure.Figure at 0x26c12a08d30>"
      ]
     },
     "metadata": {},
     "output_type": "display_data"
    },
    {
     "data": {
      "image/png": "[encoded data removed]",
      "text/plain": [
       "<matplotlib.figure.Figure at 0x26c11d7d3c8>"
      ]
     },
     "metadata": {},
     "output_type": "display_data"
    },
    {
     "data": {
      "image/png": "[encoded data removed]",
      "text/plain": [
       "<matplotlib.figure.Figure at 0x26c11da1e10>"
      ]
     },
     "metadata": {},
     "output_type": "display_data"
    },
    {
     "data": {
      "image/png": "[encoded data removed]",
      "text/plain": [
       "<matplotlib.figure.Figure at 0x26c11dcab00>"
      ]
     },
     "metadata": {},
     "output_type": "display_data"
    }
   ],
   "source": [
    "for i in range(4):\n",
    "    figure=plt.figure(figsize=(2,2))\n",
    "    plt.imshow(test_features[0][1,:,:,i])"
   ]
  },
  {
   "cell_type": "code",
   "execution_count": 56,
   "metadata": {
    "collapsed": true
   },
   "outputs": [],
   "source": [
    "inputs=Input((15,15,64))\n",
    "x=inputs\n",
    "x=Flatten()(x)\n",
    "flattening=Model(inputs,x)\n",
    "flatten_train=flattening.predict(train_features)\n",
    "flatten_test=flattening.predict(test_features)"
   ]
  },
  {
   "cell_type": "code",
   "execution_count": 196,
   "metadata": {},
   "outputs": [
    {
     "data": {
      "text/plain": [
       "RandomForestClassifier(bootstrap=True, class_weight=None, criterion='gini',\n",
       "            max_depth=None, max_features='auto', max_leaf_nodes=None,\n",
       "            min_impurity_decrease=0.0, min_impurity_split=None,\n",
       "            min_samples_leaf=1, min_samples_split=2,\n",
       "            min_weight_fraction_leaf=0.0, n_estimators=100, n_jobs=1,\n",
       "            oob_score=False, random_state=None, verbose=0,\n",
       "            warm_start=False)"
      ]
     },
     "execution_count": 196,
     "metadata": {},
     "output_type": "execute_result"
    }
   ],
   "source": [
    "rf=RandomForestClassifier(n_estimators=100)\n",
    "rf.fit(flatten_train,y_train_label)"
   ]
  },
  {
   "cell_type": "code",
   "execution_count": 197,
   "metadata": {},
   "outputs": [
    {
     "data": {
      "text/plain": [
       "0.64204545454545459"
      ]
     },
     "execution_count": 197,
     "metadata": {},
     "output_type": "execute_result"
    }
   ],
   "source": [
    "pred_rf=rf.predict(flatten_test)\n",
    "accuracy_score(pred_rf,y_test_label)"
   ]
  },
  {
   "cell_type": "markdown",
   "metadata": {},
   "source": [
    "# From DenseLayers"
   ]
  },
  {
   "cell_type": "code",
   "execution_count": 101,
   "metadata": {
    "collapsed": true
   },
   "outputs": [],
   "source": [
    "inputs = [K.learning_phase()] + model2.inputs\n",
    "\n",
    "_denseout_f = K.function(inputs, [denseout.output])\n",
    "def denseout_f(X):\n",
    "    # The [0] is to disable the training phase flag\n",
    "    return _denseout_f([0] + [X])"
   ]
  },
  {
   "cell_type": "code",
   "execution_count": 114,
   "metadata": {},
   "outputs": [
    {
     "data": {
      "text/plain": [
       "(2288, 256)"
      ]
     },
     "execution_count": 114,
     "metadata": {},
     "output_type": "execute_result"
    }
   ],
   "source": [
    "test_features_dense=denseout_f(test_array)\n",
    "train_features_dense1=denseout_f(train_array[0:500])\n",
    "train_features_dense2=denseout_f(train_array[500:1000])\n",
    "train_features_dense3=denseout_f(train_array[1000:1500])\n",
    "train_features_dense4=denseout_f(train_array[1500:2000])\n",
    "train_features_dense5=denseout_f(train_array[2000:])\n",
    "train_features_dense=np.concatenate([train_features_dense1[0],train_features_dense2[0],train_features_dense3[0],train_features_dense4[0],train_features_dense5[0]],axis=0)\n",
    "train_features_dense.shape"
   ]
  },
  {
   "cell_type": "code",
   "execution_count": 238,
   "metadata": {
    "collapsed": true
   },
   "outputs": [],
   "source": [
    "genelm=(GenELMClassifier(hidden_layer=MLPRandomLayer(n_hidden=1000,activation_func='tanh',biases=True,random_state=1)))\n",
    "genelm.fit(train_features_dense,y_train_label)\n",
    "pred_elm=genelm.predict(test_features_dense[0])\n",
    "accuracy_score(pred_elm,y_test_label)"
   ]
  },
  {
   "cell_type": "code",
   "execution_count": 175,
   "metadata": {},
   "outputs": [
    {
     "data": {
      "text/plain": [
       "0.80113636363636365"
      ]
     },
     "execution_count": 175,
     "metadata": {},
     "output_type": "execute_result"
    }
   ],
   "source": [
    "rf=(RandomForestClassifier(n_estimators=910,max_depth=None,max_features='sqrt'))\n",
    "rf.fit(train_features_dense,y_train_label)\n",
    "pred_rf=rf.predict(test_features_dense[0])\n",
    "accuracy_score(pred_rf,y_test_label)"
   ]
  },
  {
   "cell_type": "code",
   "execution_count": 170,
   "metadata": {},
   "outputs": [
    {
     "name": "stdout",
     "output_type": "stream",
     "text": [
      "test: 0.679924242424\n",
      "train: 1.0\n"
     ]
    }
   ],
   "source": [
    "lsvc=LinearSVC(C=5.0,penalty='l1',dual=False)\n",
    "lsvc.fit(train_features_dense,y_train_label)\n",
    "pred_lsvc=lsvc.predict(test_features_dense[0])\n",
    "print ('test:',accuracy_score(pred_lsvc,y_test_label))\n",
    "pred_train_lsvc=lsvc.predict(train_features_dense)\n",
    "print ('train:',accuracy_score(pred_train_lsvc,y_train_label))"
   ]
  },
  {
   "cell_type": "code",
   "execution_count": 156,
   "metadata": {},
   "outputs": [
    {
     "name": "stdout",
     "output_type": "stream",
     "text": [
      "Train on 2288 samples, validate on 528 samples\n",
      "Epoch 1/100\n",
      "2288/2288 [==============================] - 3s 1ms/step - loss: 3.7440 - acc: 0.0695 - val_loss: 3.0174 - val_acc: 0.2765\n",
      "Epoch 2/100\n",
      "2288/2288 [==============================] - 1s 518us/step - loss: 2.9741 - acc: 0.2522 - val_loss: 2.5383 - val_acc: 0.4508\n",
      "Epoch 3/100\n",
      "2288/2288 [==============================] - 1s 479us/step - loss: 2.4037 - acc: 0.4314 - val_loss: 2.2116 - val_acc: 0.5568\n",
      "Epoch 4/100\n",
      "2288/2288 [==============================] - 1s 474us/step - loss: 1.9849 - acc: 0.5651 - val_loss: 1.9582 - val_acc: 0.6326\n",
      "Epoch 5/100\n",
      "2288/2288 [==============================] - 1s 493us/step - loss: 1.6553 - acc: 0.6766 - val_loss: 1.7749 - val_acc: 0.6648\n",
      "Epoch 6/100\n",
      "2288/2288 [==============================] - 2s 676us/step - loss: 1.3846 - acc: 0.7662 - val_loss: 1.6237 - val_acc: 0.6951\n",
      "Epoch 7/100\n",
      "2288/2288 [==============================] - 1s 480us/step - loss: 1.1877 - acc: 0.8077 - val_loss: 1.5049 - val_acc: 0.6989\n",
      "Epoch 8/100\n",
      "2288/2288 [==============================] - 1s 428us/step - loss: 1.0190 - acc: 0.8553 - val_loss: 1.4161 - val_acc: 0.7121\n",
      "Epoch 9/100\n",
      "2288/2288 [==============================] - 1s 404us/step - loss: 0.8809 - acc: 0.8855 - val_loss: 1.3352 - val_acc: 0.7178\n",
      "Epoch 10/100\n",
      "2288/2288 [==============================] - 1s 406us/step - loss: 0.7638 - acc: 0.9087 - val_loss: 1.2709 - val_acc: 0.7386\n",
      "Epoch 11/100\n",
      "2288/2288 [==============================] - 1s 442us/step - loss: 0.6590 - acc: 0.9248 - val_loss: 1.2225 - val_acc: 0.7254\n",
      "Epoch 12/100\n",
      "2288/2288 [==============================] - 1s 444us/step - loss: 0.5855 - acc: 0.9366 - val_loss: 1.1817 - val_acc: 0.7348\n",
      "Epoch 13/100\n",
      "2288/2288 [==============================] - 1s 463us/step - loss: 0.5158 - acc: 0.9471 - val_loss: 1.1381 - val_acc: 0.7462\n",
      "Epoch 14/100\n",
      "2288/2288 [==============================] - 1s 496us/step - loss: 0.4701 - acc: 0.9484 - val_loss: 1.1097 - val_acc: 0.7443\n",
      "Epoch 15/100\n",
      "2288/2288 [==============================] - 1s 460us/step - loss: 0.4177 - acc: 0.9589 - val_loss: 1.0812 - val_acc: 0.7538\n",
      "Epoch 16/100\n",
      "2288/2288 [==============================] - 1s 420us/step - loss: 0.3777 - acc: 0.9642 - val_loss: 1.0555 - val_acc: 0.7576\n",
      "Epoch 17/100\n",
      "2288/2288 [==============================] - 1s 400us/step - loss: 0.3357 - acc: 0.9707 - val_loss: 1.0312 - val_acc: 0.7652\n",
      "Epoch 18/100\n",
      "2288/2288 [==============================] - 1s 411us/step - loss: 0.2970 - acc: 0.9751 - val_loss: 1.0166 - val_acc: 0.7500\n",
      "Epoch 19/100\n",
      "2288/2288 [==============================] - 1s 407us/step - loss: 0.2781 - acc: 0.9747 - val_loss: 0.9993 - val_acc: 0.7557\n",
      "Epoch 20/100\n",
      "2288/2288 [==============================] - 1s 395us/step - loss: 0.2523 - acc: 0.9838 - val_loss: 0.9836 - val_acc: 0.7595\n",
      "Epoch 21/100\n",
      "2288/2288 [==============================] - 1s 384us/step - loss: 0.2353 - acc: 0.9821 - val_loss: 0.9731 - val_acc: 0.7633\n",
      "Epoch 22/100\n",
      "2288/2288 [==============================] - 1s 402us/step - loss: 0.2058 - acc: 0.9869 - val_loss: 0.9619 - val_acc: 0.7614\n",
      "Epoch 23/100\n",
      "2288/2288 [==============================] - 1s 391us/step - loss: 0.2002 - acc: 0.9825 - val_loss: 0.9526 - val_acc: 0.7652\n",
      "Epoch 24/100\n",
      "2288/2288 [==============================] - 1s 392us/step - loss: 0.1906 - acc: 0.9830 - val_loss: 0.9403 - val_acc: 0.7614\n",
      "Epoch 25/100\n",
      "2288/2288 [==============================] - 1s 418us/step - loss: 0.1636 - acc: 0.9917 - val_loss: 0.9361 - val_acc: 0.7557\n",
      "Epoch 26/100\n",
      "2288/2288 [==============================] - 1s 407us/step - loss: 0.1570 - acc: 0.9895 - val_loss: 0.9327 - val_acc: 0.7557\n",
      "Epoch 27/100\n",
      "2288/2288 [==============================] - 1s 392us/step - loss: 0.1461 - acc: 0.9917 - val_loss: 0.9245 - val_acc: 0.7689\n",
      "Epoch 28/100\n",
      "2288/2288 [==============================] - 1s 396us/step - loss: 0.1389 - acc: 0.9921 - val_loss: 0.9163 - val_acc: 0.7633\n",
      "Epoch 29/100\n",
      "2288/2288 [==============================] - 1s 411us/step - loss: 0.1297 - acc: 0.9934 - val_loss: 0.9129 - val_acc: 0.7557\n",
      "Epoch 30/100\n",
      "2288/2288 [==============================] - 1s 436us/step - loss: 0.1177 - acc: 0.9943 - val_loss: 0.9129 - val_acc: 0.7576\n",
      "Epoch 31/100\n",
      "2288/2288 [==============================] - 1s 472us/step - loss: 0.1176 - acc: 0.9921 - val_loss: 0.9101 - val_acc: 0.7576\n",
      "Epoch 32/100\n",
      "2288/2288 [==============================] - 1s 439us/step - loss: 0.1090 - acc: 0.9939 - val_loss: 0.9064 - val_acc: 0.7595\n",
      "Epoch 33/100\n",
      "2288/2288 [==============================] - 1s 387us/step - loss: 0.1023 - acc: 0.9934 - val_loss: 0.8984 - val_acc: 0.7595\n",
      "Epoch 34/100\n",
      "2288/2288 [==============================] - 1s 386us/step - loss: 0.0962 - acc: 0.9934 - val_loss: 0.8891 - val_acc: 0.7595\n",
      "Epoch 35/100\n",
      "2288/2288 [==============================] - 1s 398us/step - loss: 0.0946 - acc: 0.9943 - val_loss: 0.8899 - val_acc: 0.7595\n",
      "Epoch 36/100\n",
      "2288/2288 [==============================] - 1s 429us/step - loss: 0.0842 - acc: 0.9965 - val_loss: 0.8888 - val_acc: 0.7614\n",
      "Epoch 37/100\n",
      "2288/2288 [==============================] - 1s 439us/step - loss: 0.0807 - acc: 0.9948 - val_loss: 0.8905 - val_acc: 0.7576\n",
      "Epoch 38/100\n",
      "2288/2288 [==============================] - 1s 428us/step - loss: 0.0818 - acc: 0.9956 - val_loss: 0.8945 - val_acc: 0.7576\n",
      "Epoch 39/100\n",
      "2288/2288 [==============================] - 1s 426us/step - loss: 0.0732 - acc: 0.9948 - val_loss: 0.8905 - val_acc: 0.7633\n",
      "Epoch 40/100\n",
      "2288/2288 [==============================] - 1s 420us/step - loss: 0.0710 - acc: 0.9952 - val_loss: 0.8865 - val_acc: 0.7576\n",
      "Epoch 41/100\n",
      "2288/2288 [==============================] - 1s 424us/step - loss: 0.0659 - acc: 0.9969 - val_loss: 0.8861 - val_acc: 0.7576\n",
      "Epoch 42/100\n",
      "2288/2288 [==============================] - 1s 404us/step - loss: 0.0656 - acc: 0.9956 - val_loss: 0.8937 - val_acc: 0.7595\n",
      "Epoch 43/100\n",
      "2288/2288 [==============================] - 1s 423us/step - loss: 0.0597 - acc: 0.9974 - val_loss: 0.8924 - val_acc: 0.7538\n",
      "Epoch 44/100\n",
      "2288/2288 [==============================] - 1s 425us/step - loss: 0.0606 - acc: 0.9965 - val_loss: 0.8903 - val_acc: 0.7576\n",
      "Epoch 45/100\n",
      "2288/2288 [==============================] - 1s 400us/step - loss: 0.0585 - acc: 0.9974 - val_loss: 0.8942 - val_acc: 0.7500\n",
      "Epoch 46/100\n",
      "2288/2288 [==============================] - 1s 400us/step - loss: 0.0529 - acc: 0.9978 - val_loss: 0.8901 - val_acc: 0.7595\n",
      "Epoch 47/100\n",
      "2288/2288 [==============================] - 1s 489us/step - loss: 0.0548 - acc: 0.9974 - val_loss: 0.8887 - val_acc: 0.7519\n",
      "Epoch 48/100\n",
      "2288/2288 [==============================] - 1s 474us/step - loss: 0.0481 - acc: 0.9987 - val_loss: 0.8919 - val_acc: 0.7557\n",
      "Epoch 49/100\n",
      "2288/2288 [==============================] - 1s 445us/step - loss: 0.0478 - acc: 0.9969 - val_loss: 0.8922 - val_acc: 0.7576\n",
      "Epoch 50/100\n",
      "2288/2288 [==============================] - 1s 412us/step - loss: 0.0464 - acc: 0.9961 - val_loss: 0.8905 - val_acc: 0.7519\n",
      "Epoch 51/100\n",
      "2288/2288 [==============================] - 1s 404us/step - loss: 0.0417 - acc: 0.9983 - val_loss: 0.8927 - val_acc: 0.7538\n",
      "Epoch 52/100\n",
      "2288/2288 [==============================] - 1s 415us/step - loss: 0.0437 - acc: 0.9978 - val_loss: 0.8910 - val_acc: 0.7519\n",
      "Epoch 53/100\n",
      "2288/2288 [==============================] - 1s 396us/step - loss: 0.0385 - acc: 0.9987 - val_loss: 0.8945 - val_acc: 0.7576\n",
      "Epoch 54/100\n",
      "2288/2288 [==============================] - 1s 389us/step - loss: 0.0405 - acc: 0.9974 - val_loss: 0.8973 - val_acc: 0.7500\n",
      "Epoch 55/100\n",
      "2288/2288 [==============================] - 1s 385us/step - loss: 0.0381 - acc: 0.9965 - val_loss: 0.8999 - val_acc: 0.7481\n",
      "Epoch 56/100\n",
      "2288/2288 [==============================] - 1s 405us/step - loss: 0.0399 - acc: 0.9978 - val_loss: 0.8975 - val_acc: 0.7538\n",
      "Epoch 57/100\n",
      "2288/2288 [==============================] - 1s 396us/step - loss: 0.0349 - acc: 0.9987 - val_loss: 0.9006 - val_acc: 0.7500\n",
      "Epoch 58/100\n",
      "2288/2288 [==============================] - 1s 448us/step - loss: 0.0346 - acc: 0.9983 - val_loss: 0.8983 - val_acc: 0.7576\n",
      "Epoch 59/100\n",
      "2288/2288 [==============================] - 1s 418us/step - loss: 0.0346 - acc: 0.9983 - val_loss: 0.8913 - val_acc: 0.7576\n",
      "Epoch 60/100\n",
      "2288/2288 [==============================] - 1s 397us/step - loss: 0.0359 - acc: 0.9978 - val_loss: 0.8965 - val_acc: 0.7576\n",
      "Epoch 61/100\n",
      "2288/2288 [==============================] - 1s 384us/step - loss: 0.0326 - acc: 0.9991 - val_loss: 0.8971 - val_acc: 0.7557\n",
      "Epoch 62/100\n",
      "2288/2288 [==============================] - 1s 387us/step - loss: 0.0329 - acc: 0.9991 - val_loss: 0.8973 - val_acc: 0.7481\n",
      "Epoch 63/100\n",
      "2288/2288 [==============================] - 1s 399us/step - loss: 0.0324 - acc: 0.9978 - val_loss: 0.8979 - val_acc: 0.7500\n",
      "Epoch 64/100\n",
      "2288/2288 [==============================] - 1s 469us/step - loss: 0.0284 - acc: 0.9987 - val_loss: 0.9037 - val_acc: 0.7519\n",
      "Epoch 65/100\n",
      "2288/2288 [==============================] - 1s 461us/step - loss: 0.0311 - acc: 0.9983 - val_loss: 0.9039 - val_acc: 0.7500\n",
      "Epoch 66/100\n",
      "2288/2288 [==============================] - 1s 396us/step - loss: 0.0274 - acc: 0.9991 - val_loss: 0.9026 - val_acc: 0.7519\n",
      "Epoch 67/100\n",
      "2288/2288 [==============================] - 1s 389us/step - loss: 0.0271 - acc: 0.9991 - val_loss: 0.9014 - val_acc: 0.7500\n",
      "Epoch 68/100\n",
      "2288/2288 [==============================] - 1s 388us/step - loss: 0.0259 - acc: 0.9991 - val_loss: 0.9018 - val_acc: 0.7519\n",
      "Epoch 69/100\n",
      "2288/2288 [==============================] - 1s 417us/step - loss: 0.0273 - acc: 0.9987 - val_loss: 0.9034 - val_acc: 0.7557\n",
      "Epoch 70/100\n",
      "2288/2288 [==============================] - 1s 409us/step - loss: 0.0249 - acc: 0.9996 - val_loss: 0.9013 - val_acc: 0.7557\n",
      "Epoch 71/100\n",
      "2288/2288 [==============================] - 1s 395us/step - loss: 0.0231 - acc: 0.9987 - val_loss: 0.9045 - val_acc: 0.7538\n",
      "Epoch 72/100\n",
      "2288/2288 [==============================] - 1s 392us/step - loss: 0.0244 - acc: 0.9991 - val_loss: 0.9039 - val_acc: 0.7538\n",
      "Epoch 73/100\n",
      "2288/2288 [==============================] - 1s 421us/step - loss: 0.0216 - acc: 1.0000 - val_loss: 0.9088 - val_acc: 0.7519\n",
      "Epoch 74/100\n",
      "2288/2288 [==============================] - 1s 393us/step - loss: 0.0229 - acc: 0.9983 - val_loss: 0.9090 - val_acc: 0.7500\n",
      "Epoch 75/100\n",
      "2288/2288 [==============================] - 1s 431us/step - loss: 0.0211 - acc: 1.0000 - val_loss: 0.9077 - val_acc: 0.7557\n",
      "Epoch 76/100\n",
      "2288/2288 [==============================] - 1s 403us/step - loss: 0.0238 - acc: 0.9983 - val_loss: 0.9031 - val_acc: 0.7538\n",
      "Epoch 77/100\n",
      "2288/2288 [==============================] - 1s 403us/step - loss: 0.0214 - acc: 0.9996 - val_loss: 0.9043 - val_acc: 0.7519\n",
      "Epoch 78/100\n",
      "2288/2288 [==============================] - 1s 456us/step - loss: 0.0201 - acc: 0.9991 - val_loss: 0.9083 - val_acc: 0.7557\n",
      "Epoch 79/100\n",
      "2288/2288 [==============================] - 1s 475us/step - loss: 0.0198 - acc: 0.9991 - val_loss: 0.9106 - val_acc: 0.7538\n",
      "Epoch 80/100\n",
      "2288/2288 [==============================] - 1s 466us/step - loss: 0.0216 - acc: 0.9987 - val_loss: 0.9140 - val_acc: 0.7576\n",
      "Epoch 81/100\n",
      "2288/2288 [==============================] - 1s 586us/step - loss: 0.0199 - acc: 0.9996 - val_loss: 0.9108 - val_acc: 0.7595\n",
      "Epoch 82/100\n",
      "2288/2288 [==============================] - 1s 526us/step - loss: 0.0193 - acc: 0.9996 - val_loss: 0.9108 - val_acc: 0.7519\n",
      "Epoch 83/100\n",
      "2288/2288 [==============================] - 1s 459us/step - loss: 0.0174 - acc: 0.9996 - val_loss: 0.9177 - val_acc: 0.7519\n",
      "Epoch 84/100\n",
      "2288/2288 [==============================] - 1s 432us/step - loss: 0.0180 - acc: 0.9991 - val_loss: 0.9146 - val_acc: 0.7519\n",
      "Epoch 85/100\n",
      "2288/2288 [==============================] - 1s 394us/step - loss: 0.0175 - acc: 0.9987 - val_loss: 0.9158 - val_acc: 0.7557\n",
      "Epoch 86/100\n",
      "2288/2288 [==============================] - 1s 411us/step - loss: 0.0186 - acc: 0.9983 - val_loss: 0.9133 - val_acc: 0.7576\n",
      "Epoch 87/100\n",
      "2288/2288 [==============================] - 1s 420us/step - loss: 0.0179 - acc: 0.9987 - val_loss: 0.9159 - val_acc: 0.7557\n",
      "Epoch 88/100\n",
      "2288/2288 [==============================] - 1s 389us/step - loss: 0.0158 - acc: 1.0000 - val_loss: 0.9254 - val_acc: 0.7557\n",
      "Epoch 89/100\n",
      "2288/2288 [==============================] - 1s 384us/step - loss: 0.0165 - acc: 0.9991 - val_loss: 0.9260 - val_acc: 0.7595\n",
      "Epoch 90/100\n",
      "2288/2288 [==============================] - 1s 415us/step - loss: 0.0186 - acc: 0.9987 - val_loss: 0.9271 - val_acc: 0.7557\n",
      "Epoch 91/100\n",
      "2288/2288 [==============================] - 1s 394us/step - loss: 0.0160 - acc: 0.9987 - val_loss: 0.9237 - val_acc: 0.7538\n",
      "Epoch 92/100\n",
      "2288/2288 [==============================] - 1s 384us/step - loss: 0.0153 - acc: 1.0000 - val_loss: 0.9239 - val_acc: 0.7519\n",
      "Epoch 93/100\n",
      "2288/2288 [==============================] - 1s 388us/step - loss: 0.0139 - acc: 0.9996 - val_loss: 0.9207 - val_acc: 0.7595\n",
      "Epoch 94/100\n",
      "2288/2288 [==============================] - 1s 381us/step - loss: 0.0142 - acc: 1.0000 - val_loss: 0.9256 - val_acc: 0.7538\n",
      "Epoch 95/100\n",
      "2288/2288 [==============================] - 1s 389us/step - loss: 0.0175 - acc: 0.9996 - val_loss: 0.9271 - val_acc: 0.7557\n",
      "Epoch 96/100\n",
      "2288/2288 [==============================] - 1s 382us/step - loss: 0.0144 - acc: 1.0000 - val_loss: 0.9304 - val_acc: 0.7576\n",
      "Epoch 97/100\n",
      "2288/2288 [==============================] - 1s 474us/step - loss: 0.0145 - acc: 0.9996 - val_loss: 0.9318 - val_acc: 0.7557\n",
      "Epoch 98/100\n",
      "2288/2288 [==============================] - 1s 450us/step - loss: 0.0135 - acc: 0.9991 - val_loss: 0.9311 - val_acc: 0.7538\n",
      "Epoch 99/100\n",
      "2288/2288 [==============================] - 1s 406us/step - loss: 0.0160 - acc: 0.9987 - val_loss: 0.9359 - val_acc: 0.7481\n",
      "Epoch 100/100\n",
      "2288/2288 [==============================] - 1s 388us/step - loss: 0.0141 - acc: 0.9991 - val_loss: 0.9392 - val_acc: 0.7538\n"
     ]
    }
   ],
   "source": [
    "model_class=Sequential()\n",
    "model_class.add(Dense(512,input_shape=(256,))) # an extra layer added increased accuracy ,then batch norm was ot included in the model\n",
    "model_class.add(Dropout(.6))\n",
    "model_class.add(BatchNormalization())\n",
    "model_class.add(Activation('relu'))\n",
    "\n",
    "model_class.add(Dense(44))\n",
    "#model_class.add(BatchNormalization())\n",
    "model_class.add(Activation('softmax'))\n",
    "adam=Adam(lr=.0001,beta_2=0.99,decay=1e-4)\n",
    "model_class.compile(loss='categorical_crossentropy',optimizer=adam,metrics=['accuracy'])\n",
    "history_class=model_class.fit(train_features_dense,y_train,epochs=100,validation_data=(test_features_dense,y_test),batch_size=20, verbose= 1)"
   ]
  },
  {
   "cell_type": "code",
   "execution_count": 230,
   "metadata": {
    "collapsed": true
   },
   "outputs": [],
   "source": [
    "# def get_features(MODEL,width=128,data=X,batch_size=10):\n",
    "#     cnn_model=MODEL(include_top=False,weights='imagenet',input_shape=(width,width,3))\n",
    "#     inputs=Input((width,width,3))\n",
    "#     x=inputs\n",
    "#     x=Lambda(preprocess_input,name='preprocessing')(x)\n",
    "#     x=vgg(x)\n",
    "#     x=GlobalAveragePooling2D(x)\n",
    "#     cnn_model=Model(inputs,x)\n",
    "#     features=cnn_model.predict(data,verbose=1,batch_size=batch_size)\n",
    "#     return features\n",
    "# features_vgg=get_features(VGG16)\n",
    "# inputs=Input((4,4,512))\n",
    "# x=inputs\n",
    "# x=Flatten()(x)\n",
    "# flattening=Model(inputs,x)\n",
    "# flatten_vgg=flattening.predict(features_vgg)"
   ]
  },
  {
   "cell_type": "code",
   "execution_count": null,
   "metadata": {
    "collapsed": true
   },
   "outputs": [],
   "source": [
    "# pred=model.predict(train_array)\n",
    "# pred_test=model.predict(test_array)\n",
    "# #print (decode_predictions(pred,top=3)[0])"
   ]
  },
  {
   "cell_type": "code",
   "execution_count": null,
   "metadata": {
    "collapsed": true
   },
   "outputs": [],
   "source": []
  }
 ],
 "metadata": {
  "kernelspec": {
   "display_name": "Python 3",
   "language": "python",
   "name": "python3"
  },
  "language_info": {
   "codemirror_mode": {
    "name": "ipython",
    "version": 3
   },
   "file_extension": ".py",
   "mimetype": "text/x-python",
   "name": "python",
   "nbconvert_exporter": "python",
   "pygments_lexer": "ipython3",
   "version": "3.6.3"
  }
 },
 "nbformat": 4,
 "nbformat_minor": 2
}
